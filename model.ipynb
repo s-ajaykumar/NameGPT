{
 "cells": [
  {
   "cell_type": "code",
   "execution_count": 88,
   "id": "334412ea-94f2-4171-87b5-0b5e7ce2e4eb",
   "metadata": {},
   "outputs": [
    {
     "name": "stdout",
     "output_type": "stream",
     "text": [
      "Vocabulary : \n",
      "['\\n', ' ', 'A', 'B', 'C', 'D', 'E', 'F', 'G', 'H', 'I', 'J', 'K', 'L', 'M', 'N', 'O', 'P', 'Q', 'R', 'S', 'T', 'U', 'V', 'W', 'X', 'Y', 'Z', 'a', 'b', 'c', 'd', 'e', 'f', 'g', 'h', 'i', 'j', 'k', 'l', 'm', 'n', 'o', 'p', 'r', 's', 't', 'u', 'v', 'w', 'x', 'y', 'z']\n",
      "\n",
      "Vocab size : 53\n",
      " \n",
      "First ten samples : \n",
      "['Aaby', 'Aadanya', 'Aadarshini', 'Aadhika', 'Aadhila', 'Aadhini', 'Aadhira', 'Aadhithyan', 'Aadhiya', 'Aadirai']\n",
      "\n",
      "Longest input : Manotheetha amirthini\t\tLength : 21\n",
      "\n",
      "Train data size : 19013\n",
      "\n",
      "Val data size : 2113\n",
      "\n"
     ]
    }
   ],
   "source": [
    "import torch\n",
    "import torch.nn as nn\n",
    "import torch.nn.functional as F\n",
    "from torch.utils.data import DataLoader\n",
    "\n",
    "# EDA\n",
    "text = open(\"Dataset/girl_names.txt\").read()\n",
    "vocab = sorted(set(text))\n",
    "vocab_size = len(vocab)\n",
    "print(f\"Vocabulary : \\n{vocab}\\n\\nVocab size : {vocab_size}\\n \")\n",
    "data = open(\"Dataset/girl_names.txt\").read().splitlines()\n",
    "print(f\"First ten samples : \\n{data[:10]}\\n\")\n",
    "for t in data:\n",
    "    if len(t) == 21:\n",
    "        longest_text = t\n",
    "print(f\"Longest input : {longest_text}\\t\\tLength : {len(longest_text)}\\n\")\n",
    "\n",
    "\n",
    "# Data preprocessing\n",
    "stoi = {ch:i for i, ch in enumerate(vocab)}\n",
    "itos = {i:ch for i, ch in enumerate(vocab)}\n",
    "\n",
    "def encode(data):\n",
    "    for i,name in enumerate(data):\n",
    "        ix = []\n",
    "        for ch in name:\n",
    "            ix.append(stoi[ch])\n",
    "        data[i] = torch.tensor(ix, dtype = torch.long)\n",
    "        \n",
    "decode = lambda ix: ''.join([itos[i] for i in ix])\n",
    "\n",
    "def pad_sequences(data, max_length = 21, pad_value = 53):\n",
    "    for i,name in enumerate(data):\n",
    "        if len(name) != max_length:\n",
    "            pad_tensor = torch.full((max_length - len(name),), pad_value)\n",
    "            data[i] = torch.cat((name, pad_tensor))\n",
    "    data = torch.stack(data)\n",
    "    return data\n",
    "\n",
    "encode(data)\n",
    "data = pad_sequences(data, max_length = 21, pad_value = 53)\n",
    "n = int(0.9*len(data))\n",
    "xtr = data[:n]\n",
    "xval = data[n:]\n",
    "print(f\"Train data size : {len(xtr)}\\n\")\n",
    "print(f\"Val data size : {len(xval)}\\n\")"
   ]
  },
  {
   "cell_type": "code",
   "execution_count": null,
   "id": "7d7d4d8a-a07d-4b89-94de-314aaacdfc00",
   "metadata": {},
   "outputs": [],
   "source": []
  }
 ],
 "metadata": {
  "kernelspec": {
   "display_name": "Python 3 (ipykernel)",
   "language": "python",
   "name": "python3"
  },
  "language_info": {
   "codemirror_mode": {
    "name": "ipython",
    "version": 3
   },
   "file_extension": ".py",
   "mimetype": "text/x-python",
   "name": "python",
   "nbconvert_exporter": "python",
   "pygments_lexer": "ipython3",
   "version": "3.12.8"
  }
 },
 "nbformat": 4,
 "nbformat_minor": 5
}
