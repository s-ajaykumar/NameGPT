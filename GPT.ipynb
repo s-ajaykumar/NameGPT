{
 "cells": [
  {
   "cell_type": "code",
   "execution_count": 2,
   "id": "d4affc16-8ddc-4e52-93d7-d4c8ec1b84d2",
   "metadata": {},
   "outputs": [],
   "source": [
    "import torch\n",
    "import torch.nn as nn\n",
    "import torch.nn.functional as F\n",
    "from matplotlib import pyplot as plt"
   ]
  },
  {
   "cell_type": "markdown",
   "id": "2774a92c-59e6-46d1-a2ce-5733e7207240",
   "metadata": {},
   "source": [
    "# Dataset collection"
   ]
  },
  {
   "cell_type": "code",
   "execution_count": null,
   "id": "145e83cf-7149-48d8-8491-07f6afe6d669",
   "metadata": {},
   "outputs": [],
   "source": [
    "with open(\"\")"
   ]
  }
 ],
 "metadata": {
  "kernelspec": {
   "display_name": "Python 3 (ipykernel)",
   "language": "python",
   "name": "python3"
  },
  "language_info": {
   "codemirror_mode": {
    "name": "ipython",
    "version": 3
   },
   "file_extension": ".py",
   "mimetype": "text/x-python",
   "name": "python",
   "nbconvert_exporter": "python",
   "pygments_lexer": "ipython3",
   "version": "3.12.8"
  }
 },
 "nbformat": 4,
 "nbformat_minor": 5
}
