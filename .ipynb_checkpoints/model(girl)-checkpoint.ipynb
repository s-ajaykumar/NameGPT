{
 "cells": [
  {
   "cell_type": "code",
   "execution_count": 1,
   "id": "f4b14755-0abd-46ce-a3a6-2f44883960ed",
   "metadata": {},
   "outputs": [],
   "source": [
    "import random\n",
    "import torch\n",
    "from selenium import webdriver\n",
    "import torch.nn.functional as F\n",
    "from matplotlib import pyplot as plt\n",
    "from selenium.webdriver.common.by import By"
   ]
  },
  {
   "cell_type": "markdown",
   "id": "ca35dac0-8a74-4c33-a41f-f2ff2759b00c",
   "metadata": {
    "jp-MarkdownHeadingCollapsed": true
   },
   "source": [
    "# Dataset Collection"
   ]
  },
  {
   "cell_type": "code",
   "execution_count": 21,
   "id": "d4c11a2b-43d0-4a52-9bbb-8f4a59b29d94",
   "metadata": {},
   "outputs": [],
   "source": [
    "driver = webdriver.Chrome()"
   ]
  },
  {
   "cell_type": "code",
   "execution_count": 24,
   "id": "882fb3d7-b08a-4a53-9298-8afa153f18b7",
   "metadata": {},
   "outputs": [
    {
     "name": "stdout",
     "output_type": "stream",
     "text": [
      "21126\n"
     ]
    }
   ],
   "source": [
    "count = 0\n",
    "names = []\n",
    "for i in range(1, 289):\n",
    "    url = f\"https://www.looktamil.com/babynames/show/girl-names-{i}\"\n",
    "    driver.get(url)\n",
    "    spans = driver.find_elements(By.CSS_SELECTOR, \"span.fw-500.babyname-color-F\")\n",
    "    for span in spans:\n",
    "        names.append(span.text)\n",
    "        count += 1\n",
    "print(count)"
   ]
  },
  {
   "cell_type": "code",
   "execution_count": 32,
   "id": "4cefc8d1-6307-4f5e-9130-5a3f62715cf7",
   "metadata": {},
   "outputs": [],
   "source": [
    "with open(\"girl_names.txt\", \"w\") as f:\n",
    "    for name in names:\n",
    "        f.write(name + \"\\n\")"
   ]
  },
  {
   "cell_type": "markdown",
   "id": "adb6bc6e-c2f1-4150-9aab-0a4409d43e83",
   "metadata": {},
   "source": [
    "# EDA"
   ]
  },
  {
   "cell_type": "code",
   "execution_count": 3,
   "id": "6a316cf0-e6d0-4740-b562-753471b38471",
   "metadata": {},
   "outputs": [
    {
     "data": {
      "text/plain": [
       "['Aaby',\n",
       " 'Aadanya',\n",
       " 'Aadarshini',\n",
       " 'Aadhika',\n",
       " 'Aadhila',\n",
       " 'Aadhini',\n",
       " 'Aadhira',\n",
       " 'Aadhithyan',\n",
       " 'Aadhiya',\n",
       " 'Aadirai']"
      ]
     },
     "execution_count": 3,
     "metadata": {},
     "output_type": "execute_result"
    }
   ],
   "source": [
    "names =  open(\"girl_names.txt\").read().splitlines()\n",
    "names[:10]"
   ]
  },
  {
   "cell_type": "code",
   "execution_count": 4,
   "id": "52a2328b-a5e2-4c8b-bb4d-6fbd941ffd00",
   "metadata": {},
   "outputs": [
    {
     "name": "stdout",
     "output_type": "stream",
     "text": [
      "Characters in each sample:\n",
      "[' ', 'A', 'B', 'C', 'D', 'E', 'F', 'G', 'H', 'I', 'J', 'K', 'L', 'M', 'N', 'O', 'P', 'Q', 'R', 'S', 'T', 'U', 'V', 'W', 'X', 'Y', 'Z', 'a', 'b', 'c', 'd', 'e', 'f', 'g', 'h', 'i', 'j', 'k', 'l', 'm', 'n', 'o', 'p', 'r', 's', 't', 'u', 'v', 'w', 'x', 'y', 'z']\n",
      "\n",
      "Total characters : 52\n",
      "\n",
      "Dataset length: 21126\n"
     ]
    }
   ],
   "source": [
    "s = \"\"\n",
    "for name in names:\n",
    "   s += name\n",
    "s = sorted(set(s))\n",
    "print(f\"Characters in each sample:\\n{s}\\n\")\n",
    "print(f\"Total characters : {len(s)}\\n\")\n",
    "print(f\"Dataset length: {len(names)}\")"
   ]
  },
  {
   "cell_type": "markdown",
   "id": "7e2927ca-bc90-481a-aa88-15aa5fd5bdc7",
   "metadata": {},
   "source": [
    "# Data preprocessing"
   ]
  },
  {
   "cell_type": "code",
   "execution_count": 5,
   "id": "3fa4831f-d77f-45de-b5ae-ece542b1b0aa",
   "metadata": {},
   "outputs": [
    {
     "name": "stdout",
     "output_type": "stream",
     "text": [
      "Characters in each sample:\n",
      "['a', 'b', 'c', 'd', 'e', 'f', 'g', 'h', 'i', 'j', 'k', 'l', 'm', 'n', 'o', 'p', 'q', 'r', 's', 't', 'u', 'v', 'w', 'x', 'y', 'z']\n",
      "\n",
      "Total characters : 26\n",
      "\n"
     ]
    }
   ],
   "source": [
    "names_processed = []\n",
    "chars = []\n",
    "for name in names:\n",
    "    name = name.lower()\n",
    "    name = name.replace(' ', '')\n",
    "    names_processed.append(name)\n",
    "\n",
    "for name in names_processed:\n",
    "    for ch in name:\n",
    "        chars.append(ch)\n",
    "chars = sorted(set(chars))\n",
    "print(f\"Characters in each sample:\\n{chars}\\n\")\n",
    "print(f\"Total characters : {len(chars)}\\n\")"
   ]
  },
  {
   "cell_type": "code",
   "execution_count": 6,
   "id": "2104efc0-cc6c-4dcf-aed9-f82179dd1a21",
   "metadata": {},
   "outputs": [
    {
     "data": {
      "text/plain": [
       "['aaby',\n",
       " 'aadanya',\n",
       " 'aadarshini',\n",
       " 'aadhika',\n",
       " 'aadhila',\n",
       " 'aadhini',\n",
       " 'aadhira',\n",
       " 'aadhithyan',\n",
       " 'aadhiya',\n",
       " 'aadirai']"
      ]
     },
     "execution_count": 6,
     "metadata": {},
     "output_type": "execute_result"
    }
   ],
   "source": [
    "names_processed[:10]"
   ]
  },
  {
   "cell_type": "code",
   "execution_count": 7,
   "id": "b33c3ec5-60d9-4e2a-8175-809ba82deb3e",
   "metadata": {},
   "outputs": [],
   "source": [
    "random.seed(11739827)\n",
    "random.shuffle(names_processed)"
   ]
  },
  {
   "cell_type": "code",
   "execution_count": 8,
   "id": "031e04e9-4369-4f14-806b-fd95ca4212dc",
   "metadata": {},
   "outputs": [
    {
     "data": {
      "text/plain": [
       "['pranita',\n",
       " 'jasmiya',\n",
       " 'absha',\n",
       " 'mushanthitha',\n",
       " 'arana',\n",
       " 'jarusha',\n",
       " 'senthusha',\n",
       " 'kabila',\n",
       " 'ayesha',\n",
       " 'saruhi']"
      ]
     },
     "execution_count": 8,
     "metadata": {},
     "output_type": "execute_result"
    }
   ],
   "source": [
    "names_processed[:10]"
   ]
  },
  {
   "cell_type": "code",
   "execution_count": 9,
   "id": "ccad6f07-750a-4b4e-8b4a-b89efeebe8b7",
   "metadata": {},
   "outputs": [],
   "source": [
    "stoi = {}\n",
    "itos = {}\n",
    "for i, char in enumerate(chars):\n",
    "    stoi[char] = i+1\n",
    "    itos[i+1] = char\n",
    "stoi['.'] = 0\n",
    "itos[0] = '.'"
   ]
  },
  {
   "cell_type": "code",
   "execution_count": 10,
   "id": "8bf60dc4-8043-483e-b297-05084c030e16",
   "metadata": {},
   "outputs": [],
   "source": [
    "def process_dataset(dataset, block_size, stoi):\n",
    "    xtr = []\n",
    "    ytr = []\n",
    "    for name in dataset:\n",
    "        context = [0] * block_size\n",
    "        name += '.'\n",
    "        for ch in name:\n",
    "            ix = stoi[ch]\n",
    "            xtr.append(context)\n",
    "            ytr.append(ix)\n",
    "            context = context[1:] + [ix]\n",
    "    return torch.tensor(xtr), torch.tensor(ytr)"
   ]
  },
  {
   "cell_type": "code",
   "execution_count": 11,
   "id": "9e7fc0c8-0af3-489a-b723-f14eaf870e3d",
   "metadata": {},
   "outputs": [
    {
     "name": "stdout",
     "output_type": "stream",
     "text": [
      "16900 19013\n"
     ]
    }
   ],
   "source": [
    "n1 = int(0.8 * len(names_processed))\n",
    "n2 = int(0.9 * len(names_processed))\n",
    "print(n1, n2)"
   ]
  },
  {
   "cell_type": "code",
   "execution_count": 12,
   "id": "14fe7164-b0d2-425a-87a8-04ec8d1d0915",
   "metadata": {},
   "outputs": [],
   "source": [
    "xtr, ytr = process_dataset(names_processed[:n1], 3, stoi)\n",
    "xval, yval = process_dataset(names_processed[n1:n2], 3, stoi)\n",
    "xtest, ytest = process_dataset(names_processed[n2:], 3, stoi)"
   ]
  },
  {
   "cell_type": "code",
   "execution_count": 13,
   "id": "ecb7c5f9-6083-4438-a6a6-113939c39dbd",
   "metadata": {},
   "outputs": [
    {
     "name": "stdout",
     "output_type": "stream",
     "text": [
      "x-Training set length: 154462\n",
      "y-Training set length: 154462\n",
      "x-validation set length: 19265\n",
      "y-validation set length: 19265\n",
      "x-test set length: 19292\n",
      "y-test set length: 19292\n"
     ]
    }
   ],
   "source": [
    "print(f\"x-Training set length: {len(xtr)}\")\n",
    "print(f\"y-Training set length: {len(ytr)}\")\n",
    "print(f\"x-validation set length: {len(xval)}\")\n",
    "print(f\"y-validation set length: {len(yval)}\")\n",
    "print(f\"x-test set length: {len(xtest)}\")\n",
    "print(f\"y-test set length: {len(ytest)}\")"
   ]
  },
  {
   "cell_type": "markdown",
   "id": "7bf95c22-6d89-45bd-bbfe-7f97887e686a",
   "metadata": {},
   "source": [
    "# Model building"
   ]
  },
  {
   "cell_type": "code",
   "execution_count": 139,
   "id": "4398cb1b-1538-42dd-96bd-fb4032943601",
   "metadata": {},
   "outputs": [],
   "source": [
    "class Linear:\n",
    "    def __init__(self, fan_in, fan_out, bias = True):\n",
    "        self.weight = torch.randn(fan_in, fan_out, generator = g) / (fan_in) ** 0.5\n",
    "        self.bias = torch.zeros(fan_out) if bias else None\n",
    "        \n",
    "    def __call__(self, x):\n",
    "        self.out = x @ self.weight\n",
    "        if self.bias is not None:\n",
    "            self.out += self.bias \n",
    "        return self.out\n",
    "\n",
    "    def parameters(self):\n",
    "        return [self.weight, self.bias] if self.bias is not None else [self.weight]\n",
    "\n",
    "\n",
    "class BatchNorm1d:\n",
    "    def __init__(self, dim, momentum = 0.001, eps = 4e-5, Training = True):\n",
    "        self.eps = eps\n",
    "        self.momentum = momentum\n",
    "        self.Training = Training\n",
    "        self.gamma = torch.ones(dim)\n",
    "        self.beta = torch.zeros(dim)\n",
    "        self.mean_running = torch.zeros(dim)\n",
    "        self.var_running = torch.zeros(dim)\n",
    "\n",
    "    def __call__(self, x):\n",
    "        if self.Training:\n",
    "            xmean = x.mean(0, keepdims = True)\n",
    "            xvar = x.var(0, keepdims = True)\n",
    "        else:\n",
    "            xmean = self.mean_running\n",
    "            xvar = self.var_running\n",
    "            \n",
    "        self.out = self.gamma * (x - xmean) / torch.sqrt(xvar + self.eps) + self.beta\n",
    "        \n",
    "        if self.Training:\n",
    "            with torch.no_grad():\n",
    "                self.mean_running = (1 - self.momentum) * self.mean_running + (self.momentum * xmean)\n",
    "                self.var_running = (1 - self.momentum) * self.var_running + (self.momentum * xvar)\n",
    "        return self.out\n",
    "\n",
    "    def parameters(self):\n",
    "        return [self.gamma, self.beta]\n",
    "\n",
    "\n",
    "class Tanh:\n",
    "    def __call__(self, x):\n",
    "        self.out = torch.tanh(x)\n",
    "        return self.out\n",
    "\n",
    "    def parameters(self):\n",
    "        return []\n",
    "\n",
    "\n",
    "class Embedding:\n",
    "    def __init__(self, vocab_size, n_embd):\n",
    "        self.C = torch.randn(vocab_size, n_embd, generator = g)\n",
    "\n",
    "    def __call__(self, x):\n",
    "        self.out = self.C[x]\n",
    "        self.out = self.out.view(self.out.shape[0], -1)\n",
    "        return self.out\n",
    "\n",
    "    def parameters(self):\n",
    "        return [self.C]"
   ]
  },
  {
   "cell_type": "code",
   "execution_count": 140,
   "id": "d430e412-06bd-4da8-916a-d6b7a62c198f",
   "metadata": {},
   "outputs": [
    {
     "name": "stdout",
     "output_type": "stream",
     "text": [
      "Total parameters : 47697\n"
     ]
    }
   ],
   "source": [
    "g = torch.Generator().manual_seed(875745764)\n",
    "block_size = 3\n",
    "n_embd = 10\n",
    "n_hidden = 100\n",
    "vocab_size = 27\n",
    "layers = [\n",
    "    Embedding(vocab_size, n_embd),\n",
    "    \n",
    "    Linear(block_size * n_embd, n_hidden),\n",
    "    BatchNorm1d(n_hidden),\n",
    "    Tanh(),\n",
    "    \n",
    "    Linear(n_hidden, n_hidden),\n",
    "    BatchNorm1d(n_hidden),\n",
    "    Tanh(),\n",
    "\n",
    "    Linear(n_hidden, n_hidden),\n",
    "    BatchNorm1d(n_hidden),\n",
    "    Tanh(),\n",
    "\n",
    "    Linear(n_hidden, n_hidden),\n",
    "    BatchNorm1d(n_hidden),\n",
    "    Tanh(),\n",
    "\n",
    "    Linear(n_hidden, n_hidden),\n",
    "    BatchNorm1d(n_hidden),\n",
    "    Tanh(),\n",
    "    \n",
    "    Linear(n_hidden, vocab_size),\n",
    "    BatchNorm1d(n_hidden)\n",
    "]\n",
    "\n",
    "with torch.no_grad():\n",
    "    layers[-2].weight *= 0.1\n",
    "    for layer in layers:\n",
    "        if isinstance(layer, Linear):\n",
    "            layer.weight *= 4/3\n",
    "            \n",
    "parameters = [p for layer in layers for p in layer.parameters()]\n",
    "for p in parameters:\n",
    "    p.requires_grad = True\n",
    "    \n",
    "print(f\"Total parameters : {sum([p.nelement() for p in parameters])}\")"
   ]
  },
  {
   "cell_type": "markdown",
   "id": "3431ca7c-533d-4027-b4db-efebad900a7b",
   "metadata": {},
   "source": [
    "# Model training"
   ]
  },
  {
   "cell_type": "code",
   "execution_count": 142,
   "id": "258e91a2-15ca-4337-af2f-7d8610f2785b",
   "metadata": {},
   "outputs": [
    {
     "ename": "RuntimeError",
     "evalue": "The size of tensor a (100) must match the size of tensor b (27) at non-singleton dimension 1",
     "output_type": "error",
     "traceback": [
      "\u001b[0;31m---------------------------------------------------------------------------\u001b[0m",
      "\u001b[0;31mRuntimeError\u001b[0m                              Traceback (most recent call last)",
      "Cell \u001b[0;32mIn[142], line 7\u001b[0m\n\u001b[1;32m      5\u001b[0m x \u001b[38;5;241m=\u001b[39m xtr[ix]\n\u001b[1;32m      6\u001b[0m \u001b[38;5;28;01mfor\u001b[39;00m layer \u001b[38;5;129;01min\u001b[39;00m layers:\n\u001b[0;32m----> 7\u001b[0m     x \u001b[38;5;241m=\u001b[39m \u001b[43mlayer\u001b[49m\u001b[43m(\u001b[49m\u001b[43mx\u001b[49m\u001b[43m)\u001b[49m\n\u001b[1;32m      9\u001b[0m loss \u001b[38;5;241m=\u001b[39m F\u001b[38;5;241m.\u001b[39mcross_entropy(x, ytr[ix])\n\u001b[1;32m     10\u001b[0m \u001b[38;5;28;01mfor\u001b[39;00m p \u001b[38;5;129;01min\u001b[39;00m parameters:\n",
      "Cell \u001b[0;32mIn[139], line 34\u001b[0m, in \u001b[0;36mBatchNorm1d.__call__\u001b[0;34m(self, x)\u001b[0m\n\u001b[1;32m     31\u001b[0m     xmean \u001b[38;5;241m=\u001b[39m \u001b[38;5;28mself\u001b[39m\u001b[38;5;241m.\u001b[39mmean_running\n\u001b[1;32m     32\u001b[0m     xvar \u001b[38;5;241m=\u001b[39m \u001b[38;5;28mself\u001b[39m\u001b[38;5;241m.\u001b[39mvar_running\n\u001b[0;32m---> 34\u001b[0m \u001b[38;5;28mself\u001b[39m\u001b[38;5;241m.\u001b[39mout \u001b[38;5;241m=\u001b[39m \u001b[38;5;28;43mself\u001b[39;49m\u001b[38;5;241;43m.\u001b[39;49m\u001b[43mgamma\u001b[49m\u001b[43m \u001b[49m\u001b[38;5;241;43m*\u001b[39;49m\u001b[43m \u001b[49m\u001b[43m(\u001b[49m\u001b[43mx\u001b[49m\u001b[43m \u001b[49m\u001b[38;5;241;43m-\u001b[39;49m\u001b[43m \u001b[49m\u001b[43mxmean\u001b[49m\u001b[43m)\u001b[49m \u001b[38;5;241m/\u001b[39m torch\u001b[38;5;241m.\u001b[39msqrt(xvar \u001b[38;5;241m+\u001b[39m \u001b[38;5;28mself\u001b[39m\u001b[38;5;241m.\u001b[39meps) \u001b[38;5;241m+\u001b[39m \u001b[38;5;28mself\u001b[39m\u001b[38;5;241m.\u001b[39mbeta\n\u001b[1;32m     36\u001b[0m \u001b[38;5;28;01mif\u001b[39;00m \u001b[38;5;28mself\u001b[39m\u001b[38;5;241m.\u001b[39mTraining:\n\u001b[1;32m     37\u001b[0m     \u001b[38;5;28;01mwith\u001b[39;00m torch\u001b[38;5;241m.\u001b[39mno_grad():\n",
      "\u001b[0;31mRuntimeError\u001b[0m: The size of tensor a (100) must match the size of tensor b (27) at non-singleton dimension 1"
     ]
    }
   ],
   "source": [
    "batch_size = 32\n",
    "loss_ls = []\n",
    "for i in range(200000):\n",
    "    ix = torch.randint(0, xtr.shape[0], (batch_size, ), generator = g)\n",
    "    x = xtr[ix]\n",
    "    for layer in layers:\n",
    "        x = layer(x)\n",
    "        \n",
    "    loss = F.cross_entropy(x, ytr[ix])\n",
    "    for p in parameters:\n",
    "        p.grad = None\n",
    "    loss.backward()\n",
    "\n",
    "    if i < 100000:\n",
    "        lr = 0.1\n",
    "    else:\n",
    "        lr = 0.01\n",
    "\n",
    "    for p in parameters:\n",
    "        p.data += -lr * p.grad\n",
    "        \n",
    "    loss_ls.append(loss.item())"
   ]
  },
  {
   "cell_type": "code",
   "execution_count": 112,
   "id": "1078c8da-bd88-4d7e-bea5-06f67879899e",
   "metadata": {},
   "outputs": [],
   "source": [
    "loss_ls = torch.tensor(loss_ls)\n",
    "ls = []\n",
    "loss_ls = loss_ls.view(-1, 1000).mean(1, keepdims = True)\n",
    "for loss in loss_ls:\n",
    "    ls.append(loss.item())"
   ]
  },
  {
   "cell_type": "code",
   "execution_count": 113,
   "id": "10b9e1bc-4a81-48cb-aa5e-ab32820a25c9",
   "metadata": {},
   "outputs": [
    {
     "data": {
      "text/plain": [
       "[<matplotlib.lines.Line2D at 0x1186b4440>]"
      ]
     },
     "execution_count": 113,
     "metadata": {},
     "output_type": "execute_result"
    },
    {
     "data": {
      "image/png": "[encoded data removed]",
      "text/plain": [
       "<Figure size 640x480 with 1 Axes>"
      ]
     },
     "metadata": {},
     "output_type": "display_data"
    }
   ],
   "source": [
    "plt.plot(ls)"
   ]
  },
  {
   "cell_type": "code",
   "execution_count": 114,
   "id": "391ce962-6a67-4211-a9ce-2e4745b09229",
   "metadata": {},
   "outputs": [
    {
     "data": {
      "text/plain": [
       "[1.6364198923110962,\n",
       " 1.646988868713379,\n",
       " 1.6414436101913452,\n",
       " 1.6351102590560913,\n",
       " 1.6370046138763428]"
      ]
     },
     "execution_count": 114,
     "metadata": {},
     "output_type": "execute_result"
    }
   ],
   "source": [
    "ls[-5:]"
   ]
  },
  {
   "cell_type": "markdown",
   "id": "3c987311-0571-4825-a264-8f622bbde8be",
   "metadata": {},
   "source": [
    "# Model evaluation"
   ]
  },
  {
   "cell_type": "code",
   "execution_count": 115,
   "id": "87491815-2f0a-4737-97a2-32e89cee9cdf",
   "metadata": {},
   "outputs": [
    {
     "name": "stdout",
     "output_type": "stream",
     "text": [
      "Validation loss : 1.7397438287734985\n"
     ]
    }
   ],
   "source": [
    "x = xval\n",
    "for layer in layers:\n",
    "    x = layer(x)\n",
    "print(f\"Validation loss : {F.cross_entropy(x, yval).item()}\")"
   ]
  },
  {
   "cell_type": "code",
   "execution_count": 77,
   "id": "61914921-7de9-415d-961a-ef4337238788",
   "metadata": {},
   "outputs": [],
   "source": [
    "# 3127 parameter model - train_loss : 2.50 - val_loss : 2.49\n",
    "# 13000 parameter model + nembd : 1 - train_loss : 2.43 - val_loss: 2.44\n",
    "# 14000 parmater model + nembd : 3 - train_loss : 1.76 - val_loss : 1.77\n",
    "# 46497 parmater model + nembd : 10 - train_loss : 1.63 - val_loss : 1,73"
   ]
  },
  {
   "cell_type": "markdown",
   "id": "1e66fcb3-8127-41d4-8573-35f5a8c6cd2e",
   "metadata": {},
   "source": [
    "# Inference"
   ]
  },
  {
   "cell_type": "code",
   "execution_count": 109,
   "id": "09f27893-d050-4179-b999-da498f325d66",
   "metadata": {},
   "outputs": [],
   "source": [
    "for layer in layers:\n",
    "    layer.Training = True"
   ]
  },
  {
   "cell_type": "code",
   "execution_count": 85,
   "id": "4c433fe0-babd-4116-b633-6388b24c1ad0",
   "metadata": {},
   "outputs": [
    {
     "name": "stdout",
     "output_type": "stream",
     "text": [
      "akanitharmesha\n",
      "rishaaksasmigundhithy\n",
      "teamalinie\n",
      "shna\n",
      "sasura\n",
      "jaisha\n",
      "fati\n",
      "eenubika\n",
      "sherbalinee\n",
      "nihanki\n"
     ]
    }
   ],
   "source": [
    "g = torch.Generator().manual_seed(875745764)\n",
    "for i in range(10):\n",
    "    context = [0,0,0]\n",
    "    while True:\n",
    "        with torch.no_grad():\n",
    "            x = torch.tensor([context])\n",
    "            for layer in layers:\n",
    "                x = layer(x)\n",
    "            p_dis = F.softmax(x, dim = -1)\n",
    "            ix = torch.multinomial(p_dis, num_samples = 1, generator = g)\n",
    "            if ix == 0:\n",
    "                break\n",
    "            print(itos[ix.item()], end = '')\n",
    "            context = context[1:] +  [ix.item()]\n",
    "    print()"
   ]
  },
  {
   "cell_type": "code",
   "execution_count": 48,
   "id": "e6615ffb-1ee5-4f70-8c69-a57cd0aa5f07",
   "metadata": {},
   "outputs": [
    {
     "data": {
      "text/plain": [
       "'model 3\\n\\nakanatina\\nvithra\\nkaraksasmiga\\ndhaniyateamaritheeshna\\nsasha\\ndeeksha\\nfamithya\\narunesharbalinee\\nnihankulee\\nvopmiya'"
      ]
     },
     "execution_count": 48,
     "metadata": {},
     "output_type": "execute_result"
    }
   ],
   "source": [
    "'''model2:\n",
    "\n",
    "waabphiarhe\n",
    "\n",
    "sre\n",
    "ka\n",
    "fkiasmahuia\n",
    "noiyhieamarirhe\n",
    "shnnanasuha\n",
    "jaisha\n",
    "fj\n",
    "iaeenhaiiueazerbshinei'''\n",
    "\n",
    "'''model 3\n",
    "\n",
    "akanatina\n",
    "vithra\n",
    "karaksasmiga\n",
    "dhaniyateamaritheeshna\n",
    "sasha\n",
    "deeksha\n",
    "famithya\n",
    "arunesharbalinee\n",
    "nihankulee\n",
    "vopmiya'''"
   ]
  },
  {
   "cell_type": "code",
   "execution_count": null,
   "id": "49c7a357-a6c7-4f1d-8875-3d125875a631",
   "metadata": {},
   "outputs": [],
   "source": []
  }
 ],
 "metadata": {
  "kernelspec": {
   "display_name": "Python 3 (ipykernel)",
   "language": "python",
   "name": "python3"
  },
  "language_info": {
   "codemirror_mode": {
    "name": "ipython",
    "version": 3
   },
   "file_extension": ".py",
   "mimetype": "text/x-python",
   "name": "python",
   "nbconvert_exporter": "python",
   "pygments_lexer": "ipython3",
   "version": "3.12.8"
  }
 },
 "nbformat": 4,
 "nbformat_minor": 5
}
